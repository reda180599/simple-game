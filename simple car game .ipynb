{
 "cells": [
  {
   "cell_type": "code",
   "execution_count": 15,
   "id": "8f69a6e3",
   "metadata": {},
   "outputs": [],
   "source": [
    "import pygame\n",
    "from pygame.locals import *\n",
    "import random\n",
    "\n"
   ]
  },
  {
   "cell_type": "code",
   "execution_count": 18,
   "id": "6feb658b",
   "metadata": {},
   "outputs": [],
   "source": [
    "\n",
    "# shape parameters\n",
    "size = width, height = (800, 800)\n",
    "road_w = int(width/1.6)\n",
    "roadmark_w = int(width/80)\n",
    "# location parameters\n",
    "right_lane = width/2 + road_w/4\n",
    "left_lane = width/2 - road_w/4\n",
    "# animation parameters\n",
    "speed = 1\n",
    "\n",
    "# initiallize the app\n",
    "pygame.init()\n",
    "running = True\n"
   ]
  },
  {
   "cell_type": "code",
   "execution_count": 19,
   "id": "2d1481e1",
   "metadata": {},
   "outputs": [],
   "source": [
    "# set window size\n",
    "screen = pygame.display.set_mode(size)\n",
    "# set window title\n",
    "pygame.display.set_caption(\"Mariya's car game\")\n",
    "# set background colour\n",
    "screen.fill((60, 220, 0))\n",
    "# apply changes\n",
    "pygame.display.update()\n"
   ]
  },
  {
   "cell_type": "code",
   "execution_count": 20,
   "id": "b240256f",
   "metadata": {},
   "outputs": [],
   "source": [
    "# load player vehicle\n",
    "car = pygame.image.load(\"car.png\")\n",
    "#resize image\n",
    "#car = pygame.transform.scale(car, (250, 250))\n",
    "car_loc = car.get_rect()\n",
    "car_loc.center = right_lane, height*0.8\n",
    "\n",
    "# load enemy vehicle\n",
    "car2 = pygame.image.load(\"otherCar.png\")\n",
    "car2_loc = car2.get_rect()\n",
    "car2_loc.center = left_lane, height*0.2\n",
    "\n",
    "counter = 0"
   ]
  },
  {
   "cell_type": "code",
   "execution_count": null,
   "id": "0e1afb49",
   "metadata": {},
   "outputs": [],
   "source": []
  },
  {
   "cell_type": "code",
   "execution_count": 21,
   "id": "04663b43",
   "metadata": {},
   "outputs": [
    {
     "name": "stdout",
     "output_type": "stream",
     "text": [
      "level up 1.15\n",
      "GAME OVER! YOU LOST!\n"
     ]
    }
   ],
   "source": [
    "# game loop\n",
    "while running:\n",
    "    counter += 1\n",
    "\n",
    "    # increase game difficulty overtime\n",
    "    if counter == 5000:\n",
    "        speed += 0.15\n",
    "        counter = 0\n",
    "        print(\"level up\", speed)\n",
    "\n",
    "    # animate enemy vehicle\n",
    "    car2_loc[1] += speed\n",
    "    if car2_loc[1] > height:\n",
    "        # randomly select lane\n",
    "        if random.randint(0,1) == 0:\n",
    "            car2_loc.center = right_lane, -200\n",
    "        else:\n",
    "            car2_loc.center = left_lane, -200\n",
    "\n",
    "    # end game logic\n",
    "    if car_loc[0] == car2_loc[0] and car2_loc[1] > car_loc[1] - 250:\n",
    "        print(\"GAME OVER! YOU LOST!\")\n",
    "        break\n",
    "\n",
    "    # event listeners\n",
    "    for event in pygame.event.get():\n",
    "        if event.type == QUIT:\n",
    "            # collapse the app\n",
    "            running = False\n",
    "        if event.type == KEYDOWN:\n",
    "            # move user car to the left\n",
    "            if event.key in [K_a, K_LEFT]:\n",
    "                car_loc = car_loc.move([-int(road_w/2), 0])\n",
    "            # move user car to the right\n",
    "            if event.key in [K_d, K_RIGHT]:\n",
    "                car_loc = car_loc.move([int(road_w/2), 0])\n",
    "    \n",
    "    # draw road\n",
    "    pygame.draw.rect(\n",
    "        screen,\n",
    "        (50, 50, 50),\n",
    "        (width/2-road_w/2, 0, road_w, height))\n",
    "    # draw centre line\n",
    "    pygame.draw.rect(\n",
    "        screen,\n",
    "        (255, 240, 60),\n",
    "        (width/2 - roadmark_w/2, 0, roadmark_w, height))\n",
    "    # draw left road marking\n",
    "    pygame.draw.rect(\n",
    "        screen,\n",
    "        (255, 255, 255),\n",
    "        (width/2 - road_w/2 + roadmark_w*2, 0, roadmark_w, height))\n",
    "    # draw right road marking\n",
    "    pygame.draw.rect(\n",
    "        screen,\n",
    "        (255, 255, 255),\n",
    "        (width/2 + road_w/2 - roadmark_w*3, 0, roadmark_w, height))\n",
    "\n",
    "    # place car images on the screen\n",
    "    screen.blit(car, car_loc)\n",
    "    screen.blit(car2, car2_loc)\n",
    "    # apply changes\n",
    "    pygame.display.update()\n",
    "\n",
    "# collapse application window\n",
    "pygame.quit()"
   ]
  },
  {
   "cell_type": "code",
   "execution_count": null,
   "id": "65172cee",
   "metadata": {},
   "outputs": [],
   "source": []
  }
 ],
 "metadata": {
  "kernelspec": {
   "display_name": "Python 3 (ipykernel)",
   "language": "python",
   "name": "python3"
  },
  "language_info": {
   "codemirror_mode": {
    "name": "ipython",
    "version": 3
   },
   "file_extension": ".py",
   "mimetype": "text/x-python",
   "name": "python",
   "nbconvert_exporter": "python",
   "pygments_lexer": "ipython3",
   "version": "3.9.12"
  }
 },
 "nbformat": 4,
 "nbformat_minor": 5
}
